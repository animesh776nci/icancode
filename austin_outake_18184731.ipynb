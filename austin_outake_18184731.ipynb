{
 "cells": [
  {
   "cell_type": "code",
   "execution_count": 38,
   "metadata": {},
   "outputs": [],
   "source": [
    "#Connecting Momngo to fetch data\n",
    "import pymongo\n",
    "import json\n",
    "from pymongo import MongoClient\n",
    "import pandas as pd\n",
    "#to connect to mongodb to fetch dataframe\n",
    "client = MongoClient()\n",
    "db = client['proj_1']\n",
    "cursor = db['austin_outake'].find()\n",
    "austin_outcome =  pd.DataFrame(list(cursor))"
   ]
  },
  {
   "cell_type": "code",
   "execution_count": null,
   "metadata": {},
   "outputs": [],
   "source": [
    "#to list dataframe column names\n",
    "list(austin_outcome)"
   ]
  },
  {
   "cell_type": "code",
   "execution_count": 40,
   "metadata": {},
   "outputs": [],
   "source": [
    "#dropping unnecessary columns\n",
    "austin_outcome.drop(['_id','name','monthyear','DOB'], axis=1, inplace=True)"
   ]
  },
  {
   "cell_type": "code",
   "execution_count": null,
   "metadata": {},
   "outputs": [],
   "source": [
    "#to check dimensions of dataframe\n",
    "austin_outcome.shape"
   ]
  },
  {
   "cell_type": "code",
   "execution_count": null,
   "metadata": {},
   "outputs": [],
   "source": [
    "#to check for na values in all columns\n",
    "null_columns=austin_outcome.columns[austin_outcome.isnull().any()]\n",
    "austin_outcome[null_columns].isnull().sum()"
   ]
  },
  {
   "cell_type": "code",
   "execution_count": 43,
   "metadata": {},
   "outputs": [],
   "source": [
    "#to remove na\n",
    "austin_outcome.dropna(axis=0, how='any', inplace=True)"
   ]
  },
  {
   "cell_type": "code",
   "execution_count": 44,
   "metadata": {},
   "outputs": [],
   "source": [
    "#filtering animal_type as dog\n",
    "austin_outcome=austin_outcome[austin_outcome.Animal_type == 'Dog']"
   ]
  },
  {
   "cell_type": "code",
   "execution_count": 45,
   "metadata": {},
   "outputs": [],
   "source": [
    "#splitting Sex_outcome into medcon and Sex\n",
    "\n",
    "dog_outcome['medcon'], dog_outcome['Sex'] = dog_outcome['Sex_outcome'].str.split(' ', 1).str\n",
    "\n"
   ]
  },
  {
   "cell_type": "code",
   "execution_count": null,
   "metadata": {},
   "outputs": [],
   "source": [
    "#cleaned data\n",
    "dog_outcome"
   ]
  },
  {
   "cell_type": "code",
   "execution_count": null,
   "metadata": {},
   "outputs": [],
   "source": [
    "#to check dimensions of dataframe\n",
    "dog_outcome.shape"
   ]
  },
  {
   "cell_type": "code",
   "execution_count": null,
   "metadata": {},
   "outputs": [],
   "source": [
    "#Dropping Sex_outcome\n",
    "dog_outcome.drop(['Sex_outcome'], axis=1, inplace=True)"
   ]
  },
  {
   "cell_type": "code",
   "execution_count": null,
   "metadata": {},
   "outputs": [],
   "source": [
    "#unique values\n",
    "dog_outcome['medcon'].unique()"
   ]
  },
  {
   "cell_type": "code",
   "execution_count": 52,
   "metadata": {},
   "outputs": [],
   "source": [
    "#Loading data into structure dataset(.csv)\n",
    "austin_outcome.to_csv('D:/nci_msc/DAP/dataset/outcomedog.csv', encoding='utf-8', index=False)"
   ]
  },
  {
   "cell_type": "code",
   "execution_count": 56,
   "metadata": {},
   "outputs": [],
   "source": [
    "import psycopg2 as pg\n",
    "import pandas.io.sql as psql\n",
    "import pandas as pd\n",
    "\n",
    "#Connection properties \n",
    "connection = pg.connect(\n",
    "        user = \"postgres\",\n",
    "        password = \"postgres\",\n",
    "        host = \"127.0.0.1\",\n",
    "        port = \"5433\",\n",
    "        database = \"proj_1\")\n",
    "\n",
    "#Sql query to fetch data from postgres \n",
    "outcome_type = pd.read_sql_query('select outcome_type, count(*) from outcome group by 1 ;',con=connection)"
   ]
  },
  {
   "cell_type": "code",
   "execution_count": null,
   "metadata": {},
   "outputs": [],
   "source": [
    "#Outcome_type pie chart plot\n",
    "\n",
    "import plotly.graph_objects as go\n",
    "\n",
    "colors=['Chartreuse','black','Red','DarkViolet','LightCoral','Orange'] #color choices\n",
    "\n",
    "fig = go.Figure(data=go.Scatter(\n",
    "    x=outcome_type['outcome_type'],\n",
    "    y=outcome_type['count'],\n",
    "    mode='markers',\n",
    "    marker=dict(size=[50,55,60,65,70,75],   #Size of bubbles\n",
    "                color=colors)\n",
    "))\n",
    "\n",
    "fig.show()"
   ]
  }
 ],
 "metadata": {
  "kernelspec": {
   "display_name": "Python 3",
   "language": "python",
   "name": "python3"
  },
  "language_info": {
   "codemirror_mode": {
    "name": "ipython",
    "version": 3
   },
   "file_extension": ".py",
   "mimetype": "text/x-python",
   "name": "python",
   "nbconvert_exporter": "python",
   "pygments_lexer": "ipython3",
   "version": "3.7.3"
  }
 },
 "nbformat": 4,
 "nbformat_minor": 2
}
