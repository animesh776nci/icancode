{
 "cells": [
  {
   "cell_type": "code",
   "execution_count": 3,
   "metadata": {},
   "outputs": [],
   "source": [
    "import json\n",
    "from pymongo import MongoClient\n",
    "from pymongo import errors as error\n",
    "import os\n",
    "import sys\n",
    "\n",
    "def LoadData():\n",
    "\n",
    "    try:\n",
    "        dog_bites = \"\"\n",
    "        with open(\"C:/Downloads/dog_bites.json\",\"r\") as f:\n",
    "            line = f.readline()\n",
    "            while line:\n",
    "                dog_bites += line\n",
    "                line = f.readline()\n",
    "\n",
    "    except FileNotFoundError as e:\n",
    "        print(\"Unable to load file\")\n",
    "        print()\n",
    "        print(e)\n",
    "    data = json.loads(dog_bites)\n",
    "    #print(data)\n",
    "\n",
    "    length = len(data[\"data\"])\n",
    "\n",
    "    print(\">>> Connecting with Mongo DB <<<\")\n",
    "    client = MongoClient()\n",
    "    client = MongoClient(\"mongodb://localhost:27017/\")\n",
    "    db_name = client['proj_1']\n",
    "    print(\">>> Creating a Collection in Mongo Db <<<\")\n",
    "    dog_bites_table = db_name['dog_bites']\n",
    "    print(\">>> Inserting data into Mongo Db <<<\")\n",
    "\n",
    "\n",
    "\n",
    "    try:\n",
    "\n",
    "\n",
    "\n",
    "        for i in range(length):\n",
    "            dog_var = {\"id\" : data[\"dog_bites\"][i][8],\n",
    "            \"date_of_bite\": data[\"DOB\"][i][9],\n",
    "            \"species\" : data[\"species\"][i][10],\n",
    "            \"breed\" : data[\"breed\"][i][11],\n",
    "            \"age\" : data[\"age\"][i][12],\n",
    "            \"gender\" : data[\"gender\"][i][13],\n",
    "            \"spayNeuter\": data[\"spayNeuter\"][i][14],\n",
    "            \"location_of_bite\" : data[\"LOB\"][i][15],\n",
    "            \"zipcode\" : data[\"zipcode\"][i][16]\n",
    "            }\n",
    "            dog_bites_table.insert_one(dog_var)\n",
    "            #print(\"Year : \"+str(data[\"data\"][i][8])+\" \"+\"Sex : \"+str(data[\"data\"][i][9])+\" \"+\"Age_group : \"+str(data[\"data\"][i][10])+\" \"+\"Race : \"+str(data[\"data\"][i][11])+\" \"+\"Injury_mechanism : \"+str(data[\"data\"][i][12])+\" \"+\"Injury_intent : \"+str(data[\"data\"][i][13])+\" \"+\"Deaths : \"+str(data[\"data\"][i][14])+\" \"+\"Population : \"+str(data[\"data\"][i][15])+\" \"+\"Age_Specific_Rate : \"+str(data[\"data\"][i][16])+\" \"+\"Age_Specific_Rate_Standard_Error :\"+str(data[\"data\"][i][17])+\" \"+\"Age_Specific_Rate_Lower_Confidence_Limit : \"+str(data[\"data\"][i][18])+\" \"+\"Age_Specific_Rate_Upper_Confidence_Limit : \"+str(data[\"data\"][i][19])+\" \"+\"Age_Adjusted_Rate : \"+str(data[\"data\"][i][20])+\" \"+\"Age_Adjusted_Rate_Standard_Error : \"+str(data[\"data\"][i][21])+\" \"+\"Age_Adjusted Rate_Lower_Confidence_Limit : \"+str(data[\"data\"][i][22])+\" \"+\"Age_Adjusted_Rate_Upper_Confidence_Limit : \"+str(data[\"data\"][i][23])+\" \"+\"Unit : \"+str(data[\"data\"][i][24]))\n",
    "\n",
    "\n",
    "    except (error.PyMongoError,error.ConfigurationError,error.ConnectionFailure,error.ConfigurationError,error.DocumentTooLarge) as err:\n",
    "        print(err)\n",
    "        sys.exit()"
   ]
  },
  {
   "cell_type": "code",
   "execution_count": null,
   "metadata": {},
   "outputs": [],
   "source": []
  }
 ],
 "metadata": {
  "kernelspec": {
   "display_name": "Python 3",
   "language": "python",
   "name": "python3"
  },
  "language_info": {
   "codemirror_mode": {
    "name": "ipython",
    "version": 3
   },
   "file_extension": ".py",
   "mimetype": "text/x-python",
   "name": "python",
   "nbconvert_exporter": "python",
   "pygments_lexer": "ipython3",
   "version": "3.7.3"
  }
 },
 "nbformat": 4,
 "nbformat_minor": 2
}
